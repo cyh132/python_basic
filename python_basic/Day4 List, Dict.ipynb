{
 "cells": [
  {
   "cell_type": "markdown",
   "metadata": {
    "collapsed": true
   },
   "source": [
    "## List, Dict"
   ]
  },
  {
   "cell_type": "code",
   "execution_count": 10,
   "metadata": {
    "collapsed": true
   },
   "outputs": [],
   "source": [
    "animals = [\"강아지\", \"고양이\" , \"사자\", \"코끼리\", \"참새\" ]\n",
    "my_informations = {\n",
    "    \"name\" : \"choyh\", \n",
    "    \"email\" :\"cyh132@naver.com\", \n",
    "    \"job\" : \"data_analyst\",\n",
    "    \"age\" : 28,\n",
    " }"
   ]
  },
  {
   "cell_type": "code",
   "execution_count": 3,
   "metadata": {
    "collapsed": false
   },
   "outputs": [
    {
     "name": "stdout",
     "output_type": "stream",
     "text": [
      "강아지\n",
      "고양이\n",
      "사자\n",
      "코끼리\n",
      "참새\n"
     ]
    }
   ],
   "source": [
    "# List for loop (1)\n",
    "\n",
    "for animal in animals:\n",
    "    print(animal)"
   ]
  },
  {
   "cell_type": "code",
   "execution_count": 7,
   "metadata": {
    "collapsed": false
   },
   "outputs": [
    {
     "name": "stdout",
     "output_type": "stream",
     "text": [
      "name\n",
      "choyh\n",
      "job\n",
      "data_analyst\n",
      "email\n",
      "cyh132@naver.com\n"
     ]
    }
   ],
   "source": [
    "# Dict for loop (1)\n",
    "\n",
    "for my_information in my_informations:\n",
    "    print(my_information)\n",
    "    print(my_informations[my_information])"
   ]
  },
  {
   "cell_type": "code",
   "execution_count": 11,
   "metadata": {
    "collapsed": false
   },
   "outputs": [
    {
     "name": "stdout",
     "output_type": "stream",
     "text": [
      "name\n",
      "choyh\n",
      "job\n",
      "data_analyst\n",
      "age\n",
      "28\n",
      "email\n",
      "cyh132@naver.com\n"
     ]
    }
   ],
   "source": [
    "# Dict for loop (2)\n",
    "\n",
    "for my_information in my_informations.items():\n",
    "    key, value = my_information # 대입 연산자\n",
    "    print(key)\n",
    "    print(value)"
   ]
  },
  {
   "cell_type": "code",
   "execution_count": 12,
   "metadata": {
    "collapsed": false
   },
   "outputs": [
    {
     "name": "stdout",
     "output_type": "stream",
     "text": [
      "name\n",
      "choyh\n",
      "job\n",
      "data_analyst\n",
      "age\n",
      "28\n",
      "email\n",
      "cyh132@naver.com\n"
     ]
    }
   ],
   "source": [
    "# Dict for loop (3)\n",
    "\n",
    "for key, value in my_informations.items():\n",
    "    print(key)\n",
    "    print(value)"
   ]
  },
  {
   "cell_type": "code",
   "execution_count": 14,
   "metadata": {
    "collapsed": false
   },
   "outputs": [
    {
     "data": {
      "text/plain": [
       "dict_keys(['name', 'job', 'age', 'email'])"
      ]
     },
     "execution_count": 14,
     "metadata": {},
     "output_type": "execute_result"
    }
   ],
   "source": [
    "my_informations.keys()"
   ]
  },
  {
   "cell_type": "code",
   "execution_count": 15,
   "metadata": {
    "collapsed": true
   },
   "outputs": [],
   "source": [
    "animals = [\"강아지\", \"고양이\" , \"사자\", \"코끼리\", \"참새\" ]\n",
    "\n",
    "# 하나씩 출력을 하는데 index가 2번인 애는 \"기린\" 으로 변경하자"
   ]
  },
  {
   "cell_type": "code",
   "execution_count": 16,
   "metadata": {
    "collapsed": false
   },
   "outputs": [
    {
     "name": "stdout",
     "output_type": "stream",
     "text": [
      "강아지\n",
      "고양이\n",
      "기린\n",
      "코끼리\n",
      "참새\n"
     ]
    }
   ],
   "source": [
    "for i in range(len(animals)):\n",
    "    if i == 2:\n",
    "        animals[i] = \"기린\"\n",
    "        print(animals[i])\n",
    "    else:\n",
    "        print(animals[i])"
   ]
  },
  {
   "cell_type": "code",
   "execution_count": 17,
   "metadata": {
    "collapsed": false
   },
   "outputs": [
    {
     "name": "stdout",
     "output_type": "stream",
     "text": [
      "강아지\n",
      "고양이\n",
      "기린\n",
      "코끼리\n",
      "참새\n"
     ]
    }
   ],
   "source": [
    "animals = [\"강아지\", \"고양이\" , \"사자\", \"코끼리\", \"참새\" ]\n",
    "\n",
    "for animal in animals:\n",
    "    index = animals.index(animal)\n",
    "    if index == 2:\n",
    "        animals[index] = \"기린\"\n",
    "    print(animals[index])"
   ]
  },
  {
   "cell_type": "code",
   "execution_count": 18,
   "metadata": {
    "collapsed": false
   },
   "outputs": [
    {
     "name": "stdout",
     "output_type": "stream",
     "text": [
      "(0, '강아지')\n",
      "(1, '고양이')\n",
      "(2, '기린')\n",
      "(3, '코끼리')\n",
      "(4, '참새')\n"
     ]
    }
   ],
   "source": [
    "for something in enumerate(animals):\n",
    "    print(something)"
   ]
  },
  {
   "cell_type": "code",
   "execution_count": 19,
   "metadata": {
    "collapsed": false
   },
   "outputs": [
    {
     "name": "stdout",
     "output_type": "stream",
     "text": [
      "0\n",
      "강아지\n",
      "1\n",
      "고양이\n",
      "2\n",
      "기린\n",
      "3\n",
      "코끼리\n",
      "4\n",
      "참새\n"
     ]
    }
   ],
   "source": [
    "for index, value in enumerate(animals):\n",
    "    print(index)\n",
    "    print(value)"
   ]
  },
  {
   "cell_type": "code",
   "execution_count": 20,
   "metadata": {
    "collapsed": false
   },
   "outputs": [
    {
     "name": "stdout",
     "output_type": "stream",
     "text": [
      "강아지\n",
      "고양이\n",
      "사자\n",
      "코끼리\n",
      "참새\n"
     ]
    }
   ],
   "source": [
    "for index, value in enumerate(animals):\n",
    "    if index == 2:\n",
    "        animals[index] = \"사자\"\n",
    "    print(animals[index])"
   ]
  },
  {
   "cell_type": "code",
   "execution_count": null,
   "metadata": {
    "collapsed": true
   },
   "outputs": [],
   "source": []
  }
 ],
 "metadata": {
  "kernelspec": {
   "display_name": "Python 3",
   "language": "python",
   "name": "python3"
  },
  "language_info": {
   "codemirror_mode": {
    "name": "ipython",
    "version": 3
   },
   "file_extension": ".py",
   "mimetype": "text/x-python",
   "name": "python",
   "nbconvert_exporter": "python",
   "pygments_lexer": "ipython3",
   "version": "3.5.1"
  }
 },
 "nbformat": 4,
 "nbformat_minor": 0
}

{
 "cells": [
  {
   "cell_type": "code",
   "execution_count": 3,
   "metadata": {
    "collapsed": true
   },
   "outputs": [],
   "source": [
    "def word_replace(sentence, find_word, replace_word):\n",
    "    result = \"\"\n",
    "    i = 0\n",
    "    while i < len(sentence):\n",
    "        is_same = True # sentence 안에서 i번째에 find_word가 있는지 없는지 체크\n",
    "        for j in range(len(find_word)):\n",
    "            if sentence[i+j] != find_word[j]:\n",
    "                is_same = False\n",
    "                break\n",
    "        if is_same:\n",
    "            result += replace_word\n",
    "            i += len(find_word)\n",
    "        else:\n",
    "            result += sentence[i]\n",
    "            i += 1\n",
    "    return result"
   ]
  },
  {
   "cell_type": "code",
   "execution_count": 5,
   "metadata": {
    "collapsed": false
   },
   "outputs": [
    {
     "data": {
      "text/plain": [
       "'김대환man하태준man'"
      ]
     },
     "execution_count": 5,
     "metadata": {},
     "output_type": "execute_result"
    }
   ],
   "source": [
    "word_replace(\"김대환조용환하태준조용환\",\"조용환\",\"man\")"
   ]
  },
  {
   "cell_type": "code",
   "execution_count": 6,
   "metadata": {
    "collapsed": true
   },
   "outputs": [],
   "source": [
    "example=\"하태준조용환\""
   ]
  },
  {
   "cell_type": "code",
   "execution_count": 34,
   "metadata": {
    "collapsed": true
   },
   "outputs": [],
   "source": [
    "import functools\n",
    "def word_replace2(sentence, find_word, replace_word):\n",
    "    \n",
    "    word_list = [i for i in sentence]\n",
    "    print(word_list)\n",
    "    result = \"\"\n",
    "    for i in range(len(sentence)):\n",
    "        if functools.reduce(lambda x,y: x+y, word_list[i:i+len(find_word)]) == find_word:\n",
    "            result += replace_word\n",
    "            for j in range(len(find_word)):\n",
    "                word_list[i+j] = \"\"\n",
    "                \n",
    "        else:\n",
    "            result += word_list[i]\n",
    "    return result\n",
    "            "
   ]
  },
  {
   "cell_type": "code",
   "execution_count": 35,
   "metadata": {
    "collapsed": false
   },
   "outputs": [
    {
     "name": "stdout",
     "output_type": "stream",
     "text": [
      "['김', '대', '환', '조', '용', '환', '하', '태', '준']\n"
     ]
    },
    {
     "data": {
      "text/plain": [
       "'김대환man하태준'"
      ]
     },
     "execution_count": 35,
     "metadata": {},
     "output_type": "execute_result"
    }
   ],
   "source": [
    "word_replace2(\"김대환조용환하태준\",\"조용환\",\"man\")"
   ]
  },
  {
   "cell_type": "code",
   "execution_count": 37,
   "metadata": {
    "collapsed": true
   },
   "outputs": [],
   "source": [
    "# 절차 지향 프로그래밍\n",
    "# 데이터, 데이터를 처리하는 함수\n",
    "\n",
    "# 객체 지향 프로그래밍 ( Object Oriented Programming )\n",
    "# 절차 <<<<< 객체 \n",
    "# 객체가 데이터를 가지고 있고 그 가진 가각의 데이터를 어떻게 처리해야하는지 방법을 알고 있음\n",
    "# 객체 <=> 메시지가 전달\n",
    "# 데이터 분석 => 절차지향 프로그래밍\n",
    "# 웹 프로그래밍 => 객체 지향\n",
    "\n",
    "# 함수형 프로그래밍\n",
    "# 모든 객체 자체를 함수로 봄 => Lambda, lambda operator, List Comprehension"
   ]
  },
  {
   "cell_type": "code",
   "execution_count": 41,
   "metadata": {
    "collapsed": true
   },
   "outputs": [],
   "source": [
    "# 학생이라는 class\n",
    "# 이름, 나이\n",
    "# 개념적으로만 있음\n",
    "\n",
    "class Student():\n",
    "    name = \"\"\n",
    "    age = \"\"\n",
    "    \n",
    "    def introduce(self):\n",
    "        print(\"안녕하세요, 저는 {age}살 {name}입니다.\".format(\n",
    "            age = self.age,\n",
    "            name = self.name\n",
    "            ))"
   ]
  },
  {
   "cell_type": "code",
   "execution_count": 44,
   "metadata": {
    "collapsed": true
   },
   "outputs": [],
   "source": [
    "cyh132 = Student()\n",
    "cyh132.name = \"조용환\"\n",
    "cyh132.age = 28"
   ]
  },
  {
   "cell_type": "code",
   "execution_count": 45,
   "metadata": {
    "collapsed": false
   },
   "outputs": [
    {
     "name": "stdout",
     "output_type": "stream",
     "text": [
      "안녕하세요, 저는 28살 조용환입니다.\n"
     ]
    }
   ],
   "source": [
    "cyh132.introduce()"
   ]
  },
  {
   "cell_type": "code",
   "execution_count": 46,
   "metadata": {
    "collapsed": true
   },
   "outputs": [],
   "source": [
    "# 이름이나 나이를 입력 안했을 때 객체가 만들어지지 않도록 해야함\n",
    "# cyh132 = Student(\"조용환\", 28)\n",
    "# 무조건 이름이랑 나이가 있는 학생을 만들어야 함"
   ]
  },
  {
   "cell_type": "code",
   "execution_count": 65,
   "metadata": {
    "collapsed": false
   },
   "outputs": [],
   "source": [
    "class Student():\n",
    "    __study = \"파이썬스터디\"\n",
    "    \n",
    "    def __init__(self, name, age): #__ 내부에서만 사용되는 함수\n",
    "        # init => initialize ( 초기화하다 )\n",
    "        # Student() => __init__ 함수가 실행됨\n",
    "        self.name = name\n",
    "        self.age = age\n",
    "        print(\"학생 {name}({age})이 생겼습니다.\".format(\n",
    "            name = self.name,\n",
    "            age = self.age\n",
    "        ))\n",
    "    def introduce(self):\n",
    "        print(\"안녕하세요, 저는 {study}를 하는 {age}살 {name}입니다.\".format(\n",
    "            study = self.study,\n",
    "            age = self.age,\n",
    "            name = self.name\n",
    "        ))"
   ]
  },
  {
   "cell_type": "code",
   "execution_count": 66,
   "metadata": {
    "collapsed": false
   },
   "outputs": [
    {
     "name": "stdout",
     "output_type": "stream",
     "text": [
      "학생 조용환(28)이 생겼습니다.\n"
     ]
    }
   ],
   "source": [
    "cyh132 = Student(\"조용환\",28)"
   ]
  },
  {
   "cell_type": "code",
   "execution_count": 61,
   "metadata": {
    "collapsed": false
   },
   "outputs": [
    {
     "ename": "AttributeError",
     "evalue": "'Student' object has no attribute 'study'",
     "output_type": "error",
     "traceback": [
      "\u001b[0;31m---------------------------------------------------------------------------\u001b[0m",
      "\u001b[0;31mAttributeError\u001b[0m                            Traceback (most recent call last)",
      "\u001b[0;32m<ipython-input-61-25f8b226e518>\u001b[0m in \u001b[0;36m<module>\u001b[0;34m()\u001b[0m\n\u001b[0;32m----> 1\u001b[0;31m \u001b[0mcyh132\u001b[0m\u001b[0;34m.\u001b[0m\u001b[0mintroduce\u001b[0m\u001b[0;34m(\u001b[0m\u001b[0;34m)\u001b[0m\u001b[0;34m\u001b[0m\u001b[0m\n\u001b[0m",
      "\u001b[0;32m<ipython-input-58-d0c8ee8aad13>\u001b[0m in \u001b[0;36mintroduce\u001b[0;34m(self)\u001b[0m\n\u001b[1;32m     13\u001b[0m     \u001b[0;32mdef\u001b[0m \u001b[0mintroduce\u001b[0m\u001b[0;34m(\u001b[0m\u001b[0mself\u001b[0m\u001b[0;34m)\u001b[0m\u001b[0;34m:\u001b[0m\u001b[0;34m\u001b[0m\u001b[0m\n\u001b[1;32m     14\u001b[0m         print(\"안녕하세요, 저는 {study}를 하는 {age}살 {name}입니다.\".format(\n\u001b[0;32m---> 15\u001b[0;31m             \u001b[0mstudy\u001b[0m \u001b[0;34m=\u001b[0m \u001b[0mself\u001b[0m\u001b[0;34m.\u001b[0m\u001b[0mstudy\u001b[0m\u001b[0;34m,\u001b[0m\u001b[0;34m\u001b[0m\u001b[0m\n\u001b[0m\u001b[1;32m     16\u001b[0m             \u001b[0mage\u001b[0m \u001b[0;34m=\u001b[0m \u001b[0mself\u001b[0m\u001b[0;34m.\u001b[0m\u001b[0mage\u001b[0m\u001b[0;34m,\u001b[0m\u001b[0;34m\u001b[0m\u001b[0m\n\u001b[1;32m     17\u001b[0m             \u001b[0mname\u001b[0m \u001b[0;34m=\u001b[0m \u001b[0mself\u001b[0m\u001b[0;34m.\u001b[0m\u001b[0mname\u001b[0m\u001b[0;34m\u001b[0m\u001b[0m\n",
      "\u001b[0;31mAttributeError\u001b[0m: 'Student' object has no attribute 'study'"
     ]
    }
   ],
   "source": [
    "cyh132.introduce()"
   ]
  },
  {
   "cell_type": "code",
   "execution_count": 68,
   "metadata": {
    "collapsed": false
   },
   "outputs": [
    {
     "name": "stdout",
     "output_type": "stream",
     "text": [
      "안녕하세요, 저는 자바스터디를 하는 28살 조용환입니다.\n"
     ]
    }
   ],
   "source": [
    "cyh132.study = \"자바스터디\" # private => 객체 내부에서 호출할 수 있는 변수(기본 파이썬에서는 안됨)\n",
    "cyh132.introduce()"
   ]
  },
  {
   "cell_type": "code",
   "execution_count": 63,
   "metadata": {
    "collapsed": true
   },
   "outputs": [],
   "source": [
    "# 위에 처럼 아무나 내용을 바꾸면 안됨"
   ]
  },
  {
   "cell_type": "code",
   "execution_count": 67,
   "metadata": {
    "collapsed": false
   },
   "outputs": [
    {
     "data": {
      "text/plain": [
       "['_Student__study',\n",
       " '__class__',\n",
       " '__delattr__',\n",
       " '__dict__',\n",
       " '__dir__',\n",
       " '__doc__',\n",
       " '__eq__',\n",
       " '__format__',\n",
       " '__ge__',\n",
       " '__getattribute__',\n",
       " '__gt__',\n",
       " '__hash__',\n",
       " '__init__',\n",
       " '__le__',\n",
       " '__lt__',\n",
       " '__module__',\n",
       " '__ne__',\n",
       " '__new__',\n",
       " '__reduce__',\n",
       " '__reduce_ex__',\n",
       " '__repr__',\n",
       " '__setattr__',\n",
       " '__sizeof__',\n",
       " '__str__',\n",
       " '__subclasshook__',\n",
       " '__weakref__',\n",
       " 'age',\n",
       " 'introduce',\n",
       " 'name']"
      ]
     },
     "execution_count": 67,
     "metadata": {},
     "output_type": "execute_result"
    }
   ],
   "source": [
    "cyh132\n",
    "dir(cyh132)"
   ]
  },
  {
   "cell_type": "code",
   "execution_count": 69,
   "metadata": {
    "collapsed": true
   },
   "outputs": [],
   "source": [
    "# 파이썬 기본 라이브러리를 사용해서는 안전하게 보호하는게 불가능\n",
    "# cyh132._Student__study = \"자바스터디\"\n",
    "# 관례적으로는 __로 시작되는 것들은 안부르는게 약속"
   ]
  },
  {
   "cell_type": "code",
   "execution_count": 70,
   "metadata": {
    "collapsed": true
   },
   "outputs": [],
   "source": [
    "# 직사각형"
   ]
  },
  {
   "cell_type": "code",
   "execution_count": 76,
   "metadata": {
    "collapsed": false
   },
   "outputs": [],
   "source": [
    "class Rectangle():\n",
    "    \n",
    "    def __init__(self, width, height):\n",
    "        self.width = width\n",
    "        self.height = height\n",
    "    def area(self):\n",
    "        return self.width * self.height\n",
    "    def girth(self):\n",
    "        return (self.width + self.height) * 2\n",
    "    def is_bigger(self, another):\n",
    "        if self.area() - another.area() >= 0:\n",
    "            print(\"내가 더 큼\")\n",
    "        else:\n",
    "            print(\"내가 더 작음\")"
   ]
  },
  {
   "cell_type": "code",
   "execution_count": 77,
   "metadata": {
    "collapsed": false
   },
   "outputs": [
    {
     "name": "stdout",
     "output_type": "stream",
     "text": [
      "내가 더 작음\n"
     ]
    }
   ],
   "source": [
    "rec1 = Rectangle(10,20)\n",
    "rec2 = Rectangle(20,30)\n",
    "\n",
    "rec1.is_bigger(rec2)"
   ]
  },
  {
   "cell_type": "code",
   "execution_count": null,
   "metadata": {
    "collapsed": true
   },
   "outputs": [],
   "source": [
    "# Class (rectangle) => 명세; 붕어빵 틀\n",
    "# 객체 (rec1, rec2) => 실제 있는 애; 붕어빵"
   ]
  },
  {
   "cell_type": "code",
   "execution_count": 82,
   "metadata": {
    "collapsed": true
   },
   "outputs": [],
   "source": [
    "class Person():\n",
    "    \n",
    "    def __init__(self, name, money):\n",
    "        self.name = name\n",
    "        self.money = money\n",
    "    def send_money(self, to, amount):\n",
    "        print(\"{to_name}한테 {amount}원 만큼의 돈을 보냅니다.\".format(\n",
    "            to_name = to.name,\n",
    "            amount = amount\n",
    "        ))\n",
    "        self.money -= amount\n",
    "        to.money += amount"
   ]
  },
  {
   "cell_type": "code",
   "execution_count": 83,
   "metadata": {
    "collapsed": true
   },
   "outputs": [],
   "source": [
    "person1 = Person(\"김대환\", 1000)\n",
    "person2 = Person(\"하태준\", 500)"
   ]
  },
  {
   "cell_type": "code",
   "execution_count": 84,
   "metadata": {
    "collapsed": false
   },
   "outputs": [
    {
     "name": "stdout",
     "output_type": "stream",
     "text": [
      "하태준한테 500원 만큼의 돈을 보냅니다.\n"
     ]
    }
   ],
   "source": [
    "person1.send_money(person2,500)"
   ]
  },
  {
   "cell_type": "code",
   "execution_count": 86,
   "metadata": {
    "collapsed": false
   },
   "outputs": [
    {
     "data": {
      "text/plain": [
       "1000"
      ]
     },
     "execution_count": 86,
     "metadata": {},
     "output_type": "execute_result"
    }
   ],
   "source": [
    "person2.money"
   ]
  },
  {
   "cell_type": "code",
   "execution_count": 87,
   "metadata": {
    "collapsed": true
   },
   "outputs": [],
   "source": [
    "class Student():\n",
    "    \n",
    "    def __init__(self, name, address):\n",
    "        self.name = name\n",
    "        self.address = address\n",
    "    def introduce(self):\n",
    "        print(\"저는 {address}에 살고 있는 {name}입니다.\".format(\n",
    "            address = self.address,\n",
    "            name = self.name\n",
    "        ))"
   ]
  },
  {
   "cell_type": "code",
   "execution_count": 88,
   "metadata": {
    "collapsed": false
   },
   "outputs": [
    {
     "name": "stdout",
     "output_type": "stream",
     "text": [
      "저는 서울에 살고 있는 조용환입니다.\n"
     ]
    }
   ],
   "source": [
    "cyh132 = Student(\"조용환\",\"서울\")\n",
    "cyh132.introduce()"
   ]
  },
  {
   "cell_type": "code",
   "execution_count": 96,
   "metadata": {
    "collapsed": false
   },
   "outputs": [
    {
     "name": "stdout",
     "output_type": "stream",
     "text": [
      "저는 부산광역시 다인군 민영열구 7 954 339-902에 살고 있는 전은황입니다.\n",
      "저는 세종특별자치시 흥용세시 임한정거리 5943 7-9 (395-057)에 살고 있는 삼향입니다.\n",
      "저는 서울특별시 광관시 재권효마을 1 84-9 196-370에 살고 있는 선우소입니다.\n",
      "저는 충청남도 팽인권구 제찬건거리 926 560-9 (749-717)에 살고 있는 임종입니다.\n",
      "저는 충청북도 채송승군 엽솔통거리 910 6-8 (044-628)에 살고 있는 조양입니다.\n",
      "저는 전라남도 순규미마을 원보철동 349 710-692에 살고 있는 부훈입니다.\n",
      "저는 충청남도 홍홍하군 솔권범거리 0450 740_ 636_ (920-397)에 살고 있는 명환열입니다.\n",
      "저는 인천광역시 증윤빈군 덕상동 3 447 (905-233)에 살고 있는 두욱입니다.\n",
      "저는 세종특별자치시 삼홍명군 힘상홍거리 6276 032-435에 살고 있는 두권힘입니다.\n",
      "저는 서울특별시 금람대구 병혜연구 582 221-080에 살고 있는 원근입니다.\n",
      "저는 강원도 기윤군 란아로 795 (162-945)에 살고 있는 나균안입니다.\n",
      "저는 대구광역시 협익마을 위용경군 0 (906-164)에 살고 있는 김덕입니다.\n",
      "저는 서울특별시 운주구 권우통동 8 700-156에 살고 있는 자송입니다.\n",
      "저는 전라북도 범가송군 권윤준동 5750 823_ 439_ (329-490)에 살고 있는 견열입니다.\n",
      "저는 충청남도 창란군 추화솔거리 6 318 837-707에 살고 있는 사진연입니다.\n",
      "저는 서울특별시 리명마을 건힘명구 0437 (878-884)에 살고 있는 호관입니다.\n",
      "저는 인천광역시 후금군 주완남로 5588 251-001에 살고 있는 천웅순입니다.\n",
      "저는 대전광역시 완산군 억해산동 8 2-1 985-808에 살고 있는 길환별입니다.\n",
      "저는 제주특별자치도 황황구 다영강시 777 (606-809)에 살고 있는 조기입니다.\n",
      "저는 제주특별자치도 손인정군 욱형거리 7 831_ 005_ (776-882)에 살고 있는 홍온병입니다.\n",
      "저는 경상북도 안환구 상위향군 6157 (050-235)에 살고 있는 문욱입니다.\n",
      "저는 광주광역시 원희준시 림엽하마을 8754 735-2 (639-033)에 살고 있는 빙덕입니다.\n"
     ]
    }
   ],
   "source": [
    "with open(\"./users.csv\",\"r\") as f:\n",
    "    # Student 객체에 대한 리스트\n",
    "    student_list = [\n",
    "        Student(\n",
    "            line.split(\",\")[0],\n",
    "            line.split(\",\")[1].replace(\"\\n\",\"\")\n",
    "        )\n",
    "        for line\n",
    "        in f.readlines()\n",
    "    ]\n",
    "for student in student_list:\n",
    "    student.introduce()"
   ]
  },
  {
   "cell_type": "code",
   "execution_count": null,
   "metadata": {
    "collapsed": true
   },
   "outputs": [],
   "source": []
  }
 ],
 "metadata": {
  "kernelspec": {
   "display_name": "Python 3",
   "language": "python",
   "name": "python3"
  },
  "language_info": {
   "codemirror_mode": {
    "name": "ipython",
    "version": 3
   },
   "file_extension": ".py",
   "mimetype": "text/x-python",
   "name": "python",
   "nbconvert_exporter": "python",
   "pygments_lexer": "ipython3",
   "version": "3.5.1"
  }
 },
 "nbformat": 4,
 "nbformat_minor": 0
}

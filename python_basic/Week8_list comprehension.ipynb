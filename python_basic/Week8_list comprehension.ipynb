{
 "cells": [
  {
   "cell_type": "code",
   "execution_count": 1,
   "metadata": {
    "collapsed": true
   },
   "outputs": [],
   "source": [
    "# Lambda 함수 \n",
    "# List comprehension"
   ]
  },
  {
   "cell_type": "code",
   "execution_count": 2,
   "metadata": {
    "collapsed": false
   },
   "outputs": [
    {
     "data": {
      "text/plain": [
       "[0, 1, 4, 9, 16, 25, 36, 49, 64, 81]"
      ]
     },
     "execution_count": 2,
     "metadata": {},
     "output_type": "execute_result"
    }
   ],
   "source": [
    "# 0-9 까지 제곱해주는 람다함수\n",
    "list(map(lambda x: x**2, range(10)))"
   ]
  },
  {
   "cell_type": "code",
   "execution_count": 4,
   "metadata": {
    "collapsed": false
   },
   "outputs": [
    {
     "data": {
      "text/plain": [
       "[36, 49, 64, 81]"
      ]
     },
     "execution_count": 4,
     "metadata": {},
     "output_type": "execute_result"
    }
   ],
   "source": [
    "[i**2 for i in range(10) if i > 5]"
   ]
  },
  {
   "cell_type": "code",
   "execution_count": 5,
   "metadata": {
    "collapsed": true
   },
   "outputs": [],
   "source": [
    "yh_list = [i for i in range(0, 10)]"
   ]
  },
  {
   "cell_type": "code",
   "execution_count": 6,
   "metadata": {
    "collapsed": false
   },
   "outputs": [
    {
     "data": {
      "text/plain": [
       "[0, 1, 2, 3, 4, 5, 6, 7, 8, 9]"
      ]
     },
     "execution_count": 6,
     "metadata": {},
     "output_type": "execute_result"
    }
   ],
   "source": [
    "yh_list"
   ]
  },
  {
   "cell_type": "code",
   "execution_count": 11,
   "metadata": {
    "collapsed": false
   },
   "outputs": [
    {
     "data": {
      "text/plain": [
       "[36, 49, 64, 81]"
      ]
     },
     "execution_count": 11,
     "metadata": {},
     "output_type": "execute_result"
    }
   ],
   "source": [
    "list(map(lambda x: x**2, filter(lambda x: x > 5, range(10))))"
   ]
  },
  {
   "cell_type": "code",
   "execution_count": 9,
   "metadata": {
    "collapsed": false
   },
   "outputs": [
    {
     "data": {
      "text/plain": [
       "[36, 49, 64, 81]"
      ]
     },
     "execution_count": 9,
     "metadata": {},
     "output_type": "execute_result"
    }
   ],
   "source": [
    "list(a)"
   ]
  },
  {
   "cell_type": "code",
   "execution_count": 12,
   "metadata": {
    "collapsed": true
   },
   "outputs": [],
   "source": [
    "# 1-100까지의 숫자 중에 짝수인 애들의 제곱 "
   ]
  },
  {
   "cell_type": "code",
   "execution_count": 14,
   "metadata": {
    "collapsed": false
   },
   "outputs": [
    {
     "name": "stdout",
     "output_type": "stream",
     "text": [
      "[4, 16, 36, 64, 100, 144, 196, 256, 324, 400, 484, 576, 676, 784, 900, 1024, 1156, 1296, 1444, 1600, 1764, 1936, 2116, 2304, 2500, 2704, 2916, 3136, 3364, 3600, 3844, 4096, 4356, 4624, 4900, 5184, 5476, 5776, 6084, 6400, 6724, 7056, 7396, 7744, 8100, 8464, 8836, 9216, 9604, 10000]\n"
     ]
    }
   ],
   "source": [
    "print([i**2 for i in range(1, 100+1) if i % 2 == 0])"
   ]
  },
  {
   "cell_type": "code",
   "execution_count": 16,
   "metadata": {
    "collapsed": true
   },
   "outputs": [],
   "source": [
    "# list comprehension 이용해서 소수 구하기 (1000까지)\n",
    "# 소수가 아닌 애들 구하고 그걸 뺌"
   ]
  },
  {
   "cell_type": "code",
   "execution_count": 35,
   "metadata": {
    "collapsed": false
   },
   "outputs": [],
   "source": [
    "MAX = 1000\n",
    "\n",
    "not_prime_list = [\n",
    "    j\n",
    "    for i in range(2, int(MAX**0.5) + 1) # 약수의 가능성이 있는 i => 2,3,4,... 31\n",
    "    for j in range(i*2, MAX+1, i) # j => i=2 ; 4,6,8,\n",
    "]\n",
    "\n",
    "prime_list = [\n",
    "    i\n",
    "    for i in range(2, MAX+1)\n",
    "    if i not in not_prime_list\n",
    "]"
   ]
  },
  {
   "cell_type": "code",
   "execution_count": 36,
   "metadata": {
    "collapsed": false
   },
   "outputs": [
    {
     "name": "stdout",
     "output_type": "stream",
     "text": [
      "[2, 3, 5, 7, 11, 13, 17, 19, 23, 29, 31, 37, 41, 43, 47, 53, 59, 61, 67, 71, 73, 79, 83, 89, 97, 101, 103, 107, 109, 113, 127, 131, 137, 139, 149, 151, 157, 163, 167, 173, 179, 181, 191, 193, 197, 199, 211, 223, 227, 229, 233, 239, 241, 251, 257, 263, 269, 271, 277, 281, 283, 293, 307, 311, 313, 317, 331, 337, 347, 349, 353, 359, 367, 373, 379, 383, 389, 397, 401, 409, 419, 421, 431, 433, 439, 443, 449, 457, 461, 463, 467, 479, 487, 491, 499, 503, 509, 521, 523, 541, 547, 557, 563, 569, 571, 577, 587, 593, 599, 601, 607, 613, 617, 619, 631, 641, 643, 647, 653, 659, 661, 673, 677, 683, 691, 701, 709, 719, 727, 733, 739, 743, 751, 757, 761, 769, 773, 787, 797, 809, 811, 821, 823, 827, 829, 839, 853, 857, 859, 863, 877, 881, 883, 887, 907, 911, 919, 929, 937, 941, 947, 953, 967, 971, 977, 983, 991, 997]\n"
     ]
    }
   ],
   "source": [
    "print(prime_list)"
   ]
  },
  {
   "cell_type": "code",
   "execution_count": 29,
   "metadata": {
    "collapsed": false
   },
   "outputs": [
    {
     "data": {
      "text/plain": [
       "[1, 4, 7]"
      ]
     },
     "execution_count": 29,
     "metadata": {},
     "output_type": "execute_result"
    }
   ],
   "source": [
    "[i for i in range(i*2,10,i)]"
   ]
  },
  {
   "cell_type": "code",
   "execution_count": 37,
   "metadata": {
    "collapsed": false
   },
   "outputs": [
    {
     "data": {
      "text/plain": [
       "[(0, 0),\n",
       " (0, 1),\n",
       " (0, 2),\n",
       " (0, 3),\n",
       " (0, 4),\n",
       " (0, 5),\n",
       " (1, 0),\n",
       " (1, 1),\n",
       " (1, 2),\n",
       " (1, 3),\n",
       " (1, 4),\n",
       " (1, 5),\n",
       " (2, 0),\n",
       " (2, 1),\n",
       " (2, 2),\n",
       " (2, 3),\n",
       " (2, 4),\n",
       " (2, 5),\n",
       " (3, 0),\n",
       " (3, 1),\n",
       " (3, 2),\n",
       " (3, 3),\n",
       " (3, 4),\n",
       " (3, 5)]"
      ]
     },
     "execution_count": 37,
     "metadata": {},
     "output_type": "execute_result"
    }
   ],
   "source": [
    "example_list = [\n",
    "    (i, j)\n",
    "    for i in range(4)\n",
    "    for j in range(6)\n",
    "]\n",
    "\n",
    "example_list"
   ]
  },
  {
   "cell_type": "code",
   "execution_count": 38,
   "metadata": {
    "collapsed": true
   },
   "outputs": [],
   "source": [
    "# 1 - 100\n",
    "# 3의 배수 \"python\"\n",
    "# 5의 배수 \"study\"\n",
    "# 15의 배수 \"pythonstudy\""
   ]
  },
  {
   "cell_type": "code",
   "execution_count": 44,
   "metadata": {
    "collapsed": false
   },
   "outputs": [],
   "source": [
    "result = []\n",
    "\n",
    "for i in range(1, 100+1):\n",
    "    word = \"\"\n",
    "    if i % 3 == 0:\n",
    "        word += \"python\"\n",
    "    if i % 5 == 0:\n",
    "        word += \"study\"\n",
    "    result.append(word)\n",
    "    "
   ]
  },
  {
   "cell_type": "code",
   "execution_count": 45,
   "metadata": {
    "collapsed": false
   },
   "outputs": [
    {
     "name": "stdout",
     "output_type": "stream",
     "text": [
      "['', '', 'python', '', 'study', 'python', '', '', 'python', 'study', '', 'python', '', '', 'pythonstudy', '', '', 'python', '', 'study', 'python', '', '', 'python', 'study', '', 'python', '', '', 'pythonstudy', '', '', 'python', '', 'study', 'python', '', '', 'python', 'study', '', 'python', '', '', 'pythonstudy', '', '', 'python', '', 'study', 'python', '', '', 'python', 'study', '', 'python', '', '', 'pythonstudy', '', '', 'python', '', 'study', 'python', '', '', 'python', 'study', '', 'python', '', '', 'pythonstudy', '', '', 'python', '', 'study', 'python', '', '', 'python', 'study', '', 'python', '', '', 'pythonstudy', '', '', 'python', '', 'study', 'python', '', '', 'python', 'study']\n"
     ]
    }
   ],
   "source": [
    "print(result)"
   ]
  },
  {
   "cell_type": "code",
   "execution_count": 46,
   "metadata": {
    "collapsed": true
   },
   "outputs": [],
   "source": [
    "# list comprehension"
   ]
  },
  {
   "cell_type": "code",
   "execution_count": null,
   "metadata": {
    "collapsed": true
   },
   "outputs": [],
   "source": [
    "# 3의 배수에 python을 넣는 리스트 하나\n",
    "# 5의 배수에 study를 넣는 리스트 하나\n",
    "# 그걸 붙이면 됨"
   ]
  },
  {
   "cell_type": "code",
   "execution_count": 48,
   "metadata": {
    "collapsed": false
   },
   "outputs": [],
   "source": [
    "python_list = [\n",
    "    \"python\" if x % 3 == 0 else \"\"\n",
    "    for x\n",
    "    in range(1, 100+1)\n",
    "]\n",
    "\n",
    "study_list = [\n",
    "    \"study\" if x % 5 == 0 else \"\"\n",
    "    for x\n",
    "    in range(1, 100+1)\n",
    "]"
   ]
  },
  {
   "cell_type": "code",
   "execution_count": 53,
   "metadata": {
    "collapsed": false
   },
   "outputs": [
    {
     "name": "stdout",
     "output_type": "stream",
     "text": [
      "['', '', 'python', '', '', 'python', '', '', 'python', '', '', 'python', '', '', 'python', '', '', 'python', '', '', 'python', '', '', 'python', '', '', 'python', '', '', 'python', '', '', 'python', '', '', 'python', '', '', 'python', '', '', 'python', '', '', 'python', '', '', 'python', '', '', 'python', '', '', 'python', '', '', 'python', '', '', 'python', '', '', 'python', '', '', 'python', '', '', 'python', '', '', 'python', '', '', 'python', '', '', 'python', '', '', 'python', '', '', 'python', '', '', 'python', '', '', 'python', '', '', 'python', '', '', 'python', '', '', 'python', '']\n"
     ]
    }
   ],
   "source": [
    "print(python_list)"
   ]
  },
  {
   "cell_type": "code",
   "execution_count": 54,
   "metadata": {
    "collapsed": false
   },
   "outputs": [
    {
     "name": "stdout",
     "output_type": "stream",
     "text": [
      "['', '', '', '', 'study', '', '', '', '', 'study', '', '', '', '', 'study', '', '', '', '', 'study', '', '', '', '', 'study', '', '', '', '', 'study', '', '', '', '', 'study', '', '', '', '', 'study', '', '', '', '', 'study', '', '', '', '', 'study', '', '', '', '', 'study', '', '', '', '', 'study', '', '', '', '', 'study', '', '', '', '', 'study', '', '', '', '', 'study', '', '', '', '', 'study', '', '', '', '', 'study', '', '', '', '', 'study', '', '', '', '', 'study', '', '', '', '', 'study']\n"
     ]
    }
   ],
   "source": [
    "print(study_list)"
   ]
  },
  {
   "cell_type": "code",
   "execution_count": 55,
   "metadata": {
    "collapsed": true
   },
   "outputs": [],
   "source": [
    "plus_list = [\n",
    "    python_list[i] + study_list[i]\n",
    "    for i\n",
    "    in range(100)\n",
    "]"
   ]
  },
  {
   "cell_type": "code",
   "execution_count": 56,
   "metadata": {
    "collapsed": false
   },
   "outputs": [
    {
     "name": "stdout",
     "output_type": "stream",
     "text": [
      "['', '', 'python', '', 'study', 'python', '', '', 'python', 'study', '', 'python', '', '', 'pythonstudy', '', '', 'python', '', 'study', 'python', '', '', 'python', 'study', '', 'python', '', '', 'pythonstudy', '', '', 'python', '', 'study', 'python', '', '', 'python', 'study', '', 'python', '', '', 'pythonstudy', '', '', 'python', '', 'study', 'python', '', '', 'python', 'study', '', 'python', '', '', 'pythonstudy', '', '', 'python', '', 'study', 'python', '', '', 'python', 'study', '', 'python', '', '', 'pythonstudy', '', '', 'python', '', 'study', 'python', '', '', 'python', 'study', '', 'python', '', '', 'pythonstudy', '', '', 'python', '', 'study', 'python', '', '', 'python', 'study']\n"
     ]
    }
   ],
   "source": [
    "print(plus_list)"
   ]
  },
  {
   "cell_type": "code",
   "execution_count": 68,
   "metadata": {
    "collapsed": false
   },
   "outputs": [
    {
     "data": {
      "text/plain": [
       "['',\n",
       " 'python',\n",
       " '',\n",
       " 'python',\n",
       " '',\n",
       " 'pythonstudy',\n",
       " '',\n",
       " 'python',\n",
       " '',\n",
       " 'python',\n",
       " '',\n",
       " 'pythonstudy',\n",
       " '',\n",
       " 'python',\n",
       " '',\n",
       " 'python',\n",
       " '',\n",
       " 'pythonstudy',\n",
       " '',\n",
       " 'python',\n",
       " '',\n",
       " 'python',\n",
       " '',\n",
       " 'pythonstudy',\n",
       " '',\n",
       " 'python',\n",
       " '',\n",
       " 'python',\n",
       " '',\n",
       " 'pythonstudy',\n",
       " '',\n",
       " 'python',\n",
       " '',\n",
       " 'python',\n",
       " '',\n",
       " 'pythonstudy',\n",
       " '',\n",
       " 'python',\n",
       " '',\n",
       " 'python']"
      ]
     },
     "execution_count": 68,
     "metadata": {},
     "output_type": "execute_result"
    }
   ],
   "source": [
    "something(40,2,\"python\",6,\"study\")"
   ]
  },
  {
   "cell_type": "code",
   "execution_count": 64,
   "metadata": {
    "collapsed": true
   },
   "outputs": [],
   "source": [
    "def something(count, first_number, first_word, second_number, second_word):\n",
    "    python_list = [\n",
    "        first_word if x % first_number == 0 else \"\"\n",
    "        for x\n",
    "        in range(1, count+1)\n",
    "    ]\n",
    "\n",
    "    study_list = [\n",
    "        second_word if x % second_number == 0 else \"\"\n",
    "        for x\n",
    "        in range(1, count+1)\n",
    "    ]\n",
    "\n",
    "    return [\n",
    "        python_list[i] + study_list[i]\n",
    "        for i\n",
    "        in range(count)\n",
    "    ]"
   ]
  },
  {
   "cell_type": "code",
   "execution_count": 71,
   "metadata": {
    "collapsed": true
   },
   "outputs": [],
   "source": [
    "def somethings(count, first_number, first_word, second_number, second_word):\n",
    "    result = []\n",
    "\n",
    "    for i in range(1, count+1):\n",
    "        word = \"\"\n",
    "        if i % first_number == 0:\n",
    "            word += first_word\n",
    "        if i % second_number == 0:\n",
    "            word += second_word\n",
    "        result.append(word)\n",
    "    return result"
   ]
  },
  {
   "cell_type": "code",
   "execution_count": 72,
   "metadata": {
    "collapsed": false
   },
   "outputs": [
    {
     "data": {
      "text/plain": [
       "['',\n",
       " 'python',\n",
       " '',\n",
       " 'python',\n",
       " '',\n",
       " 'pythonstudy',\n",
       " '',\n",
       " 'python',\n",
       " '',\n",
       " 'python',\n",
       " '',\n",
       " 'pythonstudy',\n",
       " '',\n",
       " 'python',\n",
       " '',\n",
       " 'python',\n",
       " '',\n",
       " 'pythonstudy',\n",
       " '',\n",
       " 'python',\n",
       " '',\n",
       " 'python',\n",
       " '',\n",
       " 'pythonstudy',\n",
       " '',\n",
       " 'python',\n",
       " '',\n",
       " 'python',\n",
       " '',\n",
       " 'pythonstudy',\n",
       " '',\n",
       " 'python',\n",
       " '',\n",
       " 'python',\n",
       " '',\n",
       " 'pythonstudy',\n",
       " '',\n",
       " 'python',\n",
       " '',\n",
       " 'python']"
      ]
     },
     "execution_count": 72,
     "metadata": {},
     "output_type": "execute_result"
    }
   ],
   "source": [
    "somethings(40,2,\"python\",6,\"study\")"
   ]
  },
  {
   "cell_type": "code",
   "execution_count": 73,
   "metadata": {
    "collapsed": true
   },
   "outputs": [],
   "source": [
    "# palindrome 회문\n",
    "# 기러기 => 기러기\n",
    "# is_palindrome 함수"
   ]
  },
  {
   "cell_type": "code",
   "execution_count": 74,
   "metadata": {
    "collapsed": true
   },
   "outputs": [],
   "source": [
    "# is_palindrome(\"기러기\") = True\n",
    "# is_palindrome(\"용환\") = False"
   ]
  },
  {
   "cell_type": "code",
   "execution_count": 75,
   "metadata": {
    "collapsed": true
   },
   "outputs": [],
   "source": [
    "# 정의 => 문자열을 받아서 그걸 뒤집었을 때 같으면 True 다르면 False"
   ]
  },
  {
   "cell_type": "code",
   "execution_count": 87,
   "metadata": {
    "collapsed": true
   },
   "outputs": [],
   "source": [
    "def reverse(word):\n",
    "    reversed_word = \"\"\n",
    "    for i in range(len(word)):\n",
    "        reversed_word += word[len(word)-1-i]\n",
    "    return reversed_word\n",
    "\n",
    "def is_palindrome(word):\n",
    "    return word == reverse(word)"
   ]
  },
  {
   "cell_type": "code",
   "execution_count": 88,
   "metadata": {
    "collapsed": false
   },
   "outputs": [
    {
     "data": {
      "text/plain": [
       "True"
      ]
     },
     "execution_count": 88,
     "metadata": {},
     "output_type": "execute_result"
    }
   ],
   "source": [
    "is_palindrome(\"기러기\")"
   ]
  },
  {
   "cell_type": "code",
   "execution_count": 89,
   "metadata": {
    "collapsed": false
   },
   "outputs": [
    {
     "data": {
      "text/plain": [
       "False"
      ]
     },
     "execution_count": 89,
     "metadata": {},
     "output_type": "execute_result"
    }
   ],
   "source": [
    "is_palindrome(\"하태준\")"
   ]
  },
  {
   "cell_type": "code",
   "execution_count": 86,
   "metadata": {
    "collapsed": false
   },
   "outputs": [
    {
     "data": {
      "text/plain": [
       "'환대김'"
      ]
     },
     "execution_count": 86,
     "metadata": {},
     "output_type": "execute_result"
    }
   ],
   "source": [
    "reverse(\"김대환\")"
   ]
  },
  {
   "cell_type": "code",
   "execution_count": 76,
   "metadata": {
    "collapsed": true
   },
   "outputs": [],
   "source": [
    "word = \"하태준이다\""
   ]
  },
  {
   "cell_type": "code",
   "execution_count": 83,
   "metadata": {
    "collapsed": false
   },
   "outputs": [
    {
     "data": {
      "text/plain": [
       "'준'"
      ]
     },
     "execution_count": 83,
     "metadata": {},
     "output_type": "execute_result"
    }
   ],
   "source": [
    "word[len(word)-2-1]"
   ]
  },
  {
   "cell_type": "code",
   "execution_count": 94,
   "metadata": {
    "collapsed": false
   },
   "outputs": [
    {
     "data": {
      "text/plain": [
       "'하준용김환'"
      ]
     },
     "execution_count": 94,
     "metadata": {},
     "output_type": "execute_result"
    }
   ],
   "source": [
    "\"하태준조용환김대환\"[::2]"
   ]
  },
  {
   "cell_type": "code",
   "execution_count": 95,
   "metadata": {
    "collapsed": false
   },
   "outputs": [
    {
     "data": {
      "text/plain": [
       "'환대김환용조준태하'"
      ]
     },
     "execution_count": 95,
     "metadata": {},
     "output_type": "execute_result"
    }
   ],
   "source": [
    "\"하태준조용환김대환\"[::-1]"
   ]
  },
  {
   "cell_type": "code",
   "execution_count": 96,
   "metadata": {
    "collapsed": true
   },
   "outputs": [],
   "source": [
    "def reverse(word):\n",
    "    return word[::-1]\n",
    "\n",
    "def is_palindrome(word):\n",
    "    return word == reverse(word)"
   ]
  },
  {
   "cell_type": "code",
   "execution_count": 99,
   "metadata": {
    "collapsed": false
   },
   "outputs": [
    {
     "data": {
      "text/plain": [
       "True"
      ]
     },
     "execution_count": 99,
     "metadata": {},
     "output_type": "execute_result"
    }
   ],
   "source": [
    "is_palindrome(\"기러기\")"
   ]
  },
  {
   "cell_type": "code",
   "execution_count": 100,
   "metadata": {
    "collapsed": false
   },
   "outputs": [
    {
     "data": {
      "text/plain": [
       "False"
      ]
     },
     "execution_count": 100,
     "metadata": {},
     "output_type": "execute_result"
    }
   ],
   "source": [
    "is_palindrome(\"하태준\")"
   ]
  },
  {
   "cell_type": "code",
   "execution_count": 98,
   "metadata": {
    "collapsed": true
   },
   "outputs": [],
   "source": [
    "def is_palindrome(word):\n",
    "    return word == word[::-1]"
   ]
  },
  {
   "cell_type": "code",
   "execution_count": 103,
   "metadata": {
    "collapsed": false
   },
   "outputs": [
    {
     "data": {
      "text/plain": [
       "False"
      ]
     },
     "execution_count": 103,
     "metadata": {},
     "output_type": "execute_result"
    }
   ],
   "source": [
    "(lambda x: x == x[::-1])(\"하태준\")"
   ]
  },
  {
   "cell_type": "code",
   "execution_count": null,
   "metadata": {
    "collapsed": true
   },
   "outputs": [],
   "source": []
  }
 ],
 "metadata": {
  "kernelspec": {
   "display_name": "Python 3",
   "language": "python",
   "name": "python3"
  },
  "language_info": {
   "codemirror_mode": {
    "name": "ipython",
    "version": 3
   },
   "file_extension": ".py",
   "mimetype": "text/x-python",
   "name": "python",
   "nbconvert_exporter": "python",
   "pygments_lexer": "ipython3",
   "version": "3.5.1"
  }
 },
 "nbformat": 4,
 "nbformat_minor": 0
}

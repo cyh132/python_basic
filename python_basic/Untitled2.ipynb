{
 "cells": [
  {
   "cell_type": "code",
   "execution_count": 10,
   "metadata": {
    "collapsed": true
   },
   "outputs": [],
   "source": [
    "def is_leap_year(year):\n",
    "    return ((year % 4 == 0 and year % 100 != 0) or year % 400 == 0)\n",
    "\n",
    "def calendar(month, day):\n",
    "    common_year = [\n",
    "        31,\n",
    "        28 + int(is_leap_year(2017)),\n",
    "        31,\n",
    "        30,\n",
    "        31,\n",
    "        30,\n",
    "        31,\n",
    "        31,\n",
    "        30,\n",
    "        31,\n",
    "        30,\n",
    "        31\n",
    "    ]\n",
    "    \n",
    "    date_list = [\"토\",\"일\",\"월\",\"화\",\"수\",\"목\",\"금\"]\n",
    "    \n",
    "    changed_day = {}\n",
    "    for i in range(7):\n",
    "        changed_day[i] = date_list[i] + \"요일\"\n",
    "    \n",
    "    temp_days = 0\n",
    "    \n",
    "    if is_leap_year:\n",
    "        for i in range(month-1):\n",
    "            temp_days += common_year[i]\n",
    "    else:\n",
    "        for i in range(month-1):\n",
    "            temp_days += common_year[i]\n",
    "    temp_days += day\n",
    "    return changed_day[temp_days % 7]\n",
    "\n"
   ]
  },
  {
   "cell_type": "code",
   "execution_count": 12,
   "metadata": {
    "collapsed": false
   },
   "outputs": [
    {
     "data": {
      "text/plain": [
       "'화요일'"
      ]
     },
     "execution_count": 12,
     "metadata": {},
     "output_type": "execute_result"
    }
   ],
   "source": [
    "calendar(6,6)"
   ]
  },
  {
   "cell_type": "code",
   "execution_count": 16,
   "metadata": {
    "collapsed": false
   },
   "outputs": [
    {
     "name": "stdout",
     "output_type": "stream",
     "text": [
      "{'study': 1, 'YH': 1, 'pythonstudy': 1, 'python': 3, 'DH': 1}\n",
      "study          =\n",
      "YH             =\n",
      "pythonstudy    =\n",
      "python         ===\n",
      "DH             =\n"
     ]
    }
   ],
   "source": [
    "def check_keyword(keyword,keyword_dict):\n",
    "    for key in keyword_dict:\n",
    "        if keyword == key:\n",
    "            return True\n",
    "    return False\n",
    "\n",
    "def histogram(keyword_list):\n",
    "    keyword_dict = {}\n",
    "    for keyword in keyword_list:\n",
    "        if check_keyword(keyword, keyword_dict):\n",
    "            keyword_dict[keyword] += 1\n",
    "        else:\n",
    "            keyword_dict[keyword] = 1\n",
    "    return keyword_dict\n",
    "\n",
    "def disp_keyword_str(keyword_dict):\n",
    "    max_lenth = 0\n",
    "    for keyword in keyword_dict:\n",
    "        if len(keyword) > max_lenth:\n",
    "            max_lenth = len(keyword)\n",
    "    for key, value in keyword_dict.items():\n",
    "        space = \" \" * ((max_lenth - len(key)) + 4)\n",
    "        count = \"=\" * value\n",
    "        print(\"{key}{space}{count}\".format(\n",
    "                key=key,space=space, count=count\n",
    "            ))\n",
    "    pass\n",
    "\n",
    "keyword_dict = histogram([\"python\",\"python\",\"study\",\"pythonstudy\",\"python\",\"YH\",\"DH\"])\n",
    "print(keyword_dict)\n",
    "disp_keyword_str(keyword_dict)"
   ]
  },
  {
   "cell_type": "code",
   "execution_count": null,
   "metadata": {
    "collapsed": true
   },
   "outputs": [],
   "source": []
  }
 ],
 "metadata": {
  "kernelspec": {
   "display_name": "Python 3",
   "language": "python",
   "name": "python3"
  },
  "language_info": {
   "codemirror_mode": {
    "name": "ipython",
    "version": 3
   },
   "file_extension": ".py",
   "mimetype": "text/x-python",
   "name": "python",
   "nbconvert_exporter": "python",
   "pygments_lexer": "ipython3",
   "version": "3.5.1"
  }
 },
 "nbformat": 4,
 "nbformat_minor": 0
}

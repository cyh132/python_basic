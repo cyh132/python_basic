{
 "cells": [
  {
   "cell_type": "markdown",
   "metadata": {},
   "source": [
    "## 파일 입출력"
   ]
  },
  {
   "cell_type": "code",
   "execution_count": 21,
   "metadata": {
    "collapsed": false
   },
   "outputs": [],
   "source": [
    "# ./ => 현재 폴더\n",
    "# ../ => 상위 폴더\n",
    "\n",
    "# ./test.txt => 현재 폴더에 있는 test.txt\n",
    "# ../test.txt => 상위 폴더에 있는 test.txt\n",
    "# ../../test.txt => 상위 폴더의 상위 폴더에 있는 test.txt\n",
    "\n",
    "f = open(\"./animals.txt\",\"r\") # mode =>\"w\", \"r\", \"a\""
   ]
  },
  {
   "cell_type": "code",
   "execution_count": 6,
   "metadata": {
    "collapsed": false
   },
   "outputs": [],
   "source": [
    "# read, readline, readlines\n",
    "\n",
    "# f.read()\n",
    "# f.readline()\n",
    "# f.readlines()"
   ]
  },
  {
   "cell_type": "code",
   "execution_count": 10,
   "metadata": {
    "collapsed": true
   },
   "outputs": [],
   "source": [
    "data = f.read() # 파일의 전체 데이터"
   ]
  },
  {
   "cell_type": "code",
   "execution_count": 11,
   "metadata": {
    "collapsed": false
   },
   "outputs": [
    {
     "data": {
      "text/plain": [
       "'강아지\\n참새\\n고양이\\n사자\\n기린'"
      ]
     },
     "execution_count": 11,
     "metadata": {},
     "output_type": "execute_result"
    }
   ],
   "source": [
    "data"
   ]
  },
  {
   "cell_type": "code",
   "execution_count": 19,
   "metadata": {
    "collapsed": false
   },
   "outputs": [
    {
     "data": {
      "text/plain": [
       "''"
      ]
     },
     "execution_count": 19,
     "metadata": {},
     "output_type": "execute_result"
    }
   ],
   "source": [
    "f.readline()"
   ]
  },
  {
   "cell_type": "code",
   "execution_count": 22,
   "metadata": {
    "collapsed": false
   },
   "outputs": [
    {
     "data": {
      "text/plain": [
       "['강아지\\n', '참새\\n', '고양이\\n', '사자\\n', '기린']"
      ]
     },
     "execution_count": 22,
     "metadata": {},
     "output_type": "execute_result"
    }
   ],
   "source": [
    "f.readlines()"
   ]
  },
  {
   "cell_type": "code",
   "execution_count": 23,
   "metadata": {
    "collapsed": true
   },
   "outputs": [],
   "source": [
    "f = open(\"./maven.txt\",\"w\")"
   ]
  },
  {
   "cell_type": "code",
   "execution_count": 24,
   "metadata": {
    "collapsed": false
   },
   "outputs": [
    {
     "data": {
      "text/plain": [
       "3"
      ]
     },
     "execution_count": 24,
     "metadata": {},
     "output_type": "execute_result"
    }
   ],
   "source": [
    "f.write(\"메이븐\")"
   ]
  },
  {
   "cell_type": "code",
   "execution_count": 25,
   "metadata": {
    "collapsed": true
   },
   "outputs": [],
   "source": [
    "f.close()"
   ]
  },
  {
   "cell_type": "code",
   "execution_count": 29,
   "metadata": {
    "collapsed": true
   },
   "outputs": [],
   "source": [
    "with open(\"./maven.txt\",\"w\") as f:\n",
    "    f.write(\"메이븐\")"
   ]
  },
  {
   "cell_type": "code",
   "execution_count": 31,
   "metadata": {
    "collapsed": false
   },
   "outputs": [],
   "source": [
    "with open(\"./stars.txt\",\"w\") as f:\n",
    "    for i in range(5):\n",
    "        f.write(\"*\" * (i + 1))\n",
    "        f.write(\"\\n\")"
   ]
  },
  {
   "cell_type": "code",
   "execution_count": 37,
   "metadata": {
    "collapsed": true
   },
   "outputs": [],
   "source": [
    "f = open(\"./maven.txt\",\"r\")"
   ]
  },
  {
   "cell_type": "code",
   "execution_count": 38,
   "metadata": {
    "collapsed": false
   },
   "outputs": [
    {
     "data": {
      "text/plain": [
       "['메이븐']"
      ]
     },
     "execution_count": 38,
     "metadata": {},
     "output_type": "execute_result"
    }
   ],
   "source": [
    "f.readlines()"
   ]
  },
  {
   "cell_type": "markdown",
   "metadata": {},
   "source": [
    "## 함수의 정의와 호출\n",
    "- 작업 자동화\n",
    "- 우리가 반복적으로 사용할 어떤 특정 기능들에 대해서 => \"재사용 가능한 코드 덩어리\""
   ]
  },
  {
   "cell_type": "code",
   "execution_count": 39,
   "metadata": {
    "collapsed": true
   },
   "outputs": [],
   "source": [
    "# 1. 함수를 정의\n",
    "\n",
    "def greeting():\n",
    "    username = input()\n",
    "    print(\"{username}님, 가입을 축하드립니다.\".format(username=username))"
   ]
  },
  {
   "cell_type": "code",
   "execution_count": 40,
   "metadata": {
    "collapsed": false
   },
   "outputs": [
    {
     "name": "stdout",
     "output_type": "stream",
     "text": [
      "조용환\n",
      "조용환님, 가입을 축하드립니다.\n"
     ]
    }
   ],
   "source": [
    "# 2. 함수를 실행\n",
    "\n",
    "greeting()"
   ]
  },
  {
   "cell_type": "code",
   "execution_count": 45,
   "metadata": {
    "collapsed": true
   },
   "outputs": [],
   "source": [
    "def print_pretty_star(count):\n",
    "    \"\"\"\n",
    "    이 함수는 별찍기 함수입니다.\n",
    "    \"\"\"\n",
    "    for i in range(count):\n",
    "        print(\"*\" * (i + 1))"
   ]
  },
  {
   "cell_type": "code",
   "execution_count": 42,
   "metadata": {
    "collapsed": false
   },
   "outputs": [
    {
     "name": "stdout",
     "output_type": "stream",
     "text": [
      "*\n",
      "**\n",
      "***\n"
     ]
    }
   ],
   "source": [
    "print_pretty_star(3)"
   ]
  },
  {
   "cell_type": "code",
   "execution_count": 43,
   "metadata": {
    "collapsed": false
   },
   "outputs": [
    {
     "name": "stdout",
     "output_type": "stream",
     "text": [
      "Count?10\n",
      "*\n",
      "**\n",
      "***\n",
      "****\n",
      "*****\n",
      "******\n",
      "*******\n",
      "********\n",
      "*********\n",
      "**********\n"
     ]
    }
   ],
   "source": [
    "print_pretty_star(int(input(\"Count?\")))"
   ]
  },
  {
   "cell_type": "code",
   "execution_count": 46,
   "metadata": {
    "collapsed": true
   },
   "outputs": [],
   "source": [
    "print_pretty_star?"
   ]
  },
  {
   "cell_type": "markdown",
   "metadata": {
    "collapsed": true
   },
   "source": [
    "## List, Dict"
   ]
  },
  {
   "cell_type": "code",
   "execution_count": 1,
   "metadata": {
    "collapsed": true
   },
   "outputs": [],
   "source": [
    "animals = [\"강아지\", \"고양이\" , \"사자\", \"코끼리\", \"참새\" ]\n",
    "my_informations = {\n",
    "    \"name\" : \"choyh\", \n",
    "    \"email\" :\"cyh132@naver.com\", \n",
    "    \"job\" : \"data_analyst\",\n",
    "    \"age\" : 28,\n",
    " }"
   ]
  },
  {
   "cell_type": "code",
   "execution_count": 2,
   "metadata": {
    "collapsed": false
   },
   "outputs": [
    {
     "name": "stdout",
     "output_type": "stream",
     "text": [
      "강아지\n",
      "고양이\n",
      "사자\n",
      "코끼리\n",
      "참새\n"
     ]
    }
   ],
   "source": [
    "# List for loop (1)\n",
    "\n",
    "for animal in animals:\n",
    "    print(animal)"
   ]
  },
  {
   "cell_type": "code",
   "execution_count": 3,
   "metadata": {
    "collapsed": false
   },
   "outputs": [
    {
     "name": "stdout",
     "output_type": "stream",
     "text": [
      "age\n",
      "28\n",
      "name\n",
      "choyh\n",
      "email\n",
      "cyh132@naver.com\n",
      "job\n",
      "data_analyst\n"
     ]
    }
   ],
   "source": [
    "# Dict for loop (1)\n",
    "\n",
    "for my_information in my_informations:\n",
    "    print(my_information)\n",
    "    print(my_informations[my_information])"
   ]
  },
  {
   "cell_type": "code",
   "execution_count": 4,
   "metadata": {
    "collapsed": false
   },
   "outputs": [
    {
     "name": "stdout",
     "output_type": "stream",
     "text": [
      "age\n",
      "28\n",
      "name\n",
      "choyh\n",
      "email\n",
      "cyh132@naver.com\n",
      "job\n",
      "data_analyst\n"
     ]
    }
   ],
   "source": [
    "# Dict for loop (2)\n",
    "\n",
    "for my_information in my_informations.items():\n",
    "    key, value = my_information # 대입 연산자\n",
    "    print(key)\n",
    "    print(value)"
   ]
  },
  {
   "cell_type": "code",
   "execution_count": 5,
   "metadata": {
    "collapsed": false
   },
   "outputs": [
    {
     "name": "stdout",
     "output_type": "stream",
     "text": [
      "age\n",
      "28\n",
      "name\n",
      "choyh\n",
      "email\n",
      "cyh132@naver.com\n",
      "job\n",
      "data_analyst\n"
     ]
    }
   ],
   "source": [
    "# Dict for loop (3)\n",
    "\n",
    "for key, value in my_informations.items():\n",
    "    print(key)\n",
    "    print(value)"
   ]
  },
  {
   "cell_type": "code",
   "execution_count": 6,
   "metadata": {
    "collapsed": false
   },
   "outputs": [
    {
     "data": {
      "text/plain": [
       "dict_keys(['age', 'name', 'email', 'job'])"
      ]
     },
     "execution_count": 6,
     "metadata": {},
     "output_type": "execute_result"
    }
   ],
   "source": [
    "my_informations.keys()"
   ]
  },
  {
   "cell_type": "code",
   "execution_count": 7,
   "metadata": {
    "collapsed": true
   },
   "outputs": [],
   "source": [
    "animals = [\"강아지\", \"고양이\" , \"사자\", \"코끼리\", \"참새\" ]\n",
    "\n",
    "# 하나씩 출력을 하는데 index가 2번인 애는 \"기린\" 으로 변경하자"
   ]
  },
  {
   "cell_type": "code",
   "execution_count": 8,
   "metadata": {
    "collapsed": false
   },
   "outputs": [
    {
     "name": "stdout",
     "output_type": "stream",
     "text": [
      "강아지\n",
      "고양이\n",
      "기린\n",
      "코끼리\n",
      "참새\n"
     ]
    }
   ],
   "source": [
    "for i in range(len(animals)):\n",
    "    if i == 2:\n",
    "        animals[i] = \"기린\"\n",
    "        print(animals[i])\n",
    "    else:\n",
    "        print(animals[i])"
   ]
  },
  {
   "cell_type": "code",
   "execution_count": null,
   "metadata": {
    "collapsed": true
   },
   "outputs": [],
   "source": []
  }
 ],
 "metadata": {
  "kernelspec": {
   "display_name": "Python 3",
   "language": "python",
   "name": "python3"
  },
  "language_info": {
   "codemirror_mode": {
    "name": "ipython",
    "version": 3
   },
   "file_extension": ".py",
   "mimetype": "text/x-python",
   "name": "python",
   "nbconvert_exporter": "python",
   "pygments_lexer": "ipython3",
   "version": "3.5.1"
  }
 },
 "nbformat": 4,
 "nbformat_minor": 0
}

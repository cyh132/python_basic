{
 "cells": [
  {
   "cell_type": "code",
   "execution_count": 1,
   "metadata": {
    "collapsed": true
   },
   "outputs": [],
   "source": [
    "#List Dict"
   ]
  },
  {
   "cell_type": "code",
   "execution_count": 2,
   "metadata": {
    "collapsed": true
   },
   "outputs": [],
   "source": [
    "maven = [\"조용환\", \"이종휘\", \"박경두\", \"김수현\", \"박성민\"]\n",
    "\n",
    "my_information = {\n",
    "    \"name\" : \"cyh134\",\n",
    "    \"phone\": \"010-1234-1234\",\n",
    "    \"email\": \"cyh134@gmail.com\"\n",
    "}"
   ]
  },
  {
   "cell_type": "code",
   "execution_count": 3,
   "metadata": {
    "collapsed": false
   },
   "outputs": [
    {
     "name": "stdout",
     "output_type": "stream",
     "text": [
      "조용환\n",
      "이종휘\n",
      "박경두\n",
      "김수현\n",
      "박성민\n"
     ]
    }
   ],
   "source": [
    "# List for loop (1)\n",
    "\n",
    "for person in maven:\n",
    "    print(person)"
   ]
  },
  {
   "cell_type": "code",
   "execution_count": 4,
   "metadata": {
    "collapsed": false
   },
   "outputs": [
    {
     "name": "stdout",
     "output_type": "stream",
     "text": [
      "phone\n",
      "name\n",
      "email\n"
     ]
    }
   ],
   "source": [
    "for info in my_information:\n",
    "    print(info)"
   ]
  },
  {
   "cell_type": "code",
   "execution_count": 5,
   "metadata": {
    "collapsed": false
   },
   "outputs": [
    {
     "name": "stdout",
     "output_type": "stream",
     "text": [
      "phone\n",
      "010-1234-1234\n",
      "name\n",
      "cyh134\n",
      "email\n",
      "cyh134@gmail.com\n"
     ]
    }
   ],
   "source": [
    "for info in my_information:\n",
    "    print(info)\n",
    "    print(my_information[info])"
   ]
  },
  {
   "cell_type": "code",
   "execution_count": 7,
   "metadata": {
    "collapsed": false
   },
   "outputs": [
    {
     "name": "stdout",
     "output_type": "stream",
     "text": [
      "('phone', '010-1234-1234')\n",
      "phone\n",
      "010-1234-1234\n",
      "('name', 'cyh134')\n",
      "name\n",
      "cyh134\n",
      "('email', 'cyh134@gmail.com')\n",
      "email\n",
      "cyh134@gmail.com\n"
     ]
    }
   ],
   "source": [
    "for info in my_information.items():\n",
    "    print(info)\n",
    "    key, value = info\n",
    "    print(key)\n",
    "    print(value)"
   ]
  },
  {
   "cell_type": "code",
   "execution_count": 8,
   "metadata": {
    "collapsed": false
   },
   "outputs": [
    {
     "name": "stdout",
     "output_type": "stream",
     "text": [
      "phone\n",
      "010-1234-1234\n",
      "name\n",
      "cyh134\n",
      "email\n",
      "cyh134@gmail.com\n"
     ]
    }
   ],
   "source": [
    "for key, value in my_information.items():\n",
    "    print(key)\n",
    "    print(value)"
   ]
  },
  {
   "cell_type": "code",
   "execution_count": 12,
   "metadata": {
    "collapsed": true
   },
   "outputs": [],
   "source": [
    "maven = [\"조용환\", \"이종휘\", \"박경두\", \"김수현\", \"박성민\"]\n",
    "\n",
    "# 하나씩 출력하는데\n",
    "# index가 2번인 애를 \"문수연\"으로 변경"
   ]
  },
  {
   "cell_type": "code",
   "execution_count": 10,
   "metadata": {
    "collapsed": false
   },
   "outputs": [
    {
     "name": "stdout",
     "output_type": "stream",
     "text": [
      "조용환\n",
      "이종휘\n",
      "박경두\n",
      "김수현\n",
      "박성민\n"
     ]
    }
   ],
   "source": [
    "for person in maven:\n",
    "    print(person)"
   ]
  },
  {
   "cell_type": "code",
   "execution_count": 11,
   "metadata": {
    "collapsed": false
   },
   "outputs": [
    {
     "name": "stdout",
     "output_type": "stream",
     "text": [
      "조용환\n",
      "이종휘\n",
      "문수연\n",
      "김수현\n",
      "박성민\n"
     ]
    }
   ],
   "source": [
    "for i in range(len(maven)):\n",
    "    if i == 2:\n",
    "        maven[i] = \"문수연\"\n",
    "        print(maven[i])\n",
    "    else:\n",
    "        print(maven[i])"
   ]
  },
  {
   "cell_type": "code",
   "execution_count": 13,
   "metadata": {
    "collapsed": false
   },
   "outputs": [
    {
     "data": {
      "text/plain": [
       "2"
      ]
     },
     "execution_count": 13,
     "metadata": {},
     "output_type": "execute_result"
    }
   ],
   "source": [
    "maven.index(\"박경두\")"
   ]
  },
  {
   "cell_type": "code",
   "execution_count": 14,
   "metadata": {
    "collapsed": false
   },
   "outputs": [
    {
     "name": "stdout",
     "output_type": "stream",
     "text": [
      "조용환\n",
      "이종휘\n",
      "문수연\n",
      "김수현\n",
      "박성민\n"
     ]
    }
   ],
   "source": [
    "for person in maven:\n",
    "    index = maven.index(person)\n",
    "    if index == 2:\n",
    "        maven[index] = \"문수연\"\n",
    "        \n",
    "    print(maven[index])"
   ]
  },
  {
   "cell_type": "code",
   "execution_count": 15,
   "metadata": {
    "collapsed": false
   },
   "outputs": [
    {
     "name": "stdout",
     "output_type": "stream",
     "text": [
      "(0, '조용환')\n",
      "(1, '이종휘')\n",
      "(2, '문수연')\n",
      "(3, '김수현')\n",
      "(4, '박성민')\n"
     ]
    }
   ],
   "source": [
    "for something in enumerate(maven):\n",
    "    print(something)"
   ]
  },
  {
   "cell_type": "code",
   "execution_count": 16,
   "metadata": {
    "collapsed": false
   },
   "outputs": [
    {
     "name": "stdout",
     "output_type": "stream",
     "text": [
      "0\n",
      "조용환\n",
      "1\n",
      "이종휘\n",
      "2\n",
      "문수연\n",
      "3\n",
      "김수현\n",
      "4\n",
      "박성민\n"
     ]
    }
   ],
   "source": [
    "for index, value in enumerate(maven):\n",
    "    print(index)\n",
    "    print(value)"
   ]
  },
  {
   "cell_type": "code",
   "execution_count": 17,
   "metadata": {
    "collapsed": false
   },
   "outputs": [
    {
     "name": "stdout",
     "output_type": "stream",
     "text": [
      "조용환\n",
      "이종휘\n",
      "박경두\n",
      "김수현\n",
      "박성민\n"
     ]
    }
   ],
   "source": [
    "for index, value in enumerate(maven):\n",
    "    if index == 2:\n",
    "        maven[index] = \"박경두\"\n",
    "    print(maven[index])"
   ]
  },
  {
   "cell_type": "code",
   "execution_count": null,
   "metadata": {
    "collapsed": true
   },
   "outputs": [],
   "source": []
  }
 ],
 "metadata": {
  "kernelspec": {
   "display_name": "Python 3",
   "language": "python",
   "name": "python3"
  },
  "language_info": {
   "codemirror_mode": {
    "name": "ipython",
    "version": 3
   },
   "file_extension": ".py",
   "mimetype": "text/x-python",
   "name": "python",
   "nbconvert_exporter": "python",
   "pygments_lexer": "ipython3",
   "version": "3.5.1"
  }
 },
 "nbformat": 4,
 "nbformat_minor": 0
}

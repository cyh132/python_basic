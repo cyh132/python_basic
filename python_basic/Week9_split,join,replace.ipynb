{
 "cells": [
  {
   "cell_type": "code",
   "execution_count": null,
   "metadata": {
    "collapsed": true
   },
   "outputs": [],
   "source": [
    "# word_split => 문자열을 받아서 단어 리스트를 만듦\n",
    "# word_join => 단어 리스트를 받아서 문장으로 만듦\n",
    "# word_replace => 단어를 받아서, 특정 단어만 다른 단어로 바꿈"
   ]
  },
  {
   "cell_type": "code",
   "execution_count": 1,
   "metadata": {
    "collapsed": true
   },
   "outputs": [],
   "source": [
    "# \"파이썬 스터디는 참 유익하다\"\n",
    "# [\"파이썬\", \"스터디는\", \"참\", \"유익하다\"]"
   ]
  },
  {
   "cell_type": "code",
   "execution_count": 6,
   "metadata": {
    "collapsed": true
   },
   "outputs": [],
   "source": [
    "def word_split(sentence):\n",
    "    # 앞에서 부터 한글자 한글자 읽으면서 \" \"이 나올때까지 기다렸다가\n",
    "    # \" \" 나오면 모아뒀던 단어를 리스트에 추가한다.\n",
    "    \n",
    "    word_list = []\n",
    "    word = \"\"\n",
    "    \n",
    "    for char in sentence:\n",
    "        if char == \" \":\n",
    "            word_list.append(word)\n",
    "            word = \"\"\n",
    "        else:\n",
    "            word += char\n",
    "    word_list.append(word)\n",
    "    return word_list"
   ]
  },
  {
   "cell_type": "code",
   "execution_count": 7,
   "metadata": {
    "collapsed": false
   },
   "outputs": [
    {
     "data": {
      "text/plain": [
       "['파이썬', '스터디는', '참', '유익하다']"
      ]
     },
     "execution_count": 7,
     "metadata": {},
     "output_type": "execute_result"
    }
   ],
   "source": [
    "word_split(\"파이썬 스터디는 참 유익하다\")"
   ]
  },
  {
   "cell_type": "code",
   "execution_count": 8,
   "metadata": {
    "collapsed": false
   },
   "outputs": [
    {
     "data": {
      "text/plain": [
       "'안녕 난 조용환이야'"
      ]
     },
     "execution_count": 8,
     "metadata": {},
     "output_type": "execute_result"
    }
   ],
   "source": [
    "# word_join([\"안녕\", \"난\", \"조용환이야\"], \" \")\n",
    "'안녕 난 조용환이야'"
   ]
  },
  {
   "cell_type": "code",
   "execution_count": 9,
   "metadata": {
    "collapsed": true
   },
   "outputs": [],
   "source": [
    "def word_join(word_list, seperate):\n",
    "    # 빈 문자를 만들고 거기에 리스트에 들어있는 문자열을 하나씩 추가하는데 \n",
    "    # 하나 추가 후에 구분자를 더해준다.\n",
    "    result = \"\"\n",
    "    for word in word_list:\n",
    "        result += word\n",
    "        result += seperate\n",
    "    return result"
   ]
  },
  {
   "cell_type": "code",
   "execution_count": 12,
   "metadata": {
    "collapsed": false
   },
   "outputs": [
    {
     "data": {
      "text/plain": [
       "'이렇게 하면 될 거예요'"
      ]
     },
     "execution_count": 12,
     "metadata": {},
     "output_type": "execute_result"
    }
   ],
   "source": [
    "word_join([\"이렇게\",\"하면\",\"될\",\"거예요\"],\" \")"
   ]
  },
  {
   "cell_type": "code",
   "execution_count": 11,
   "metadata": {
    "collapsed": true
   },
   "outputs": [],
   "source": [
    "def word_join(word_list, seperate):\n",
    "    # 빈 문자열을 만들고 거기에 리스트에 있는 단어를 하나씩 추가하는데\n",
    "    # 인덱스가 리스트의 전체 인덱스 - 1와 같지 않으면 구분자 추가\n",
    "    result = \"\"\n",
    "    for index, word in enumerate(word_list):\n",
    "        result += word\n",
    "        if not index == len(word_list)-1:\n",
    "            result += seperate\n",
    "    return result"
   ]
  },
  {
   "cell_type": "code",
   "execution_count": 13,
   "metadata": {
    "collapsed": false
   },
   "outputs": [
    {
     "data": {
      "text/plain": [
       "['파이썬', '스터디는', '참', '유익하다']"
      ]
     },
     "execution_count": 13,
     "metadata": {},
     "output_type": "execute_result"
    }
   ],
   "source": [
    "\"파이썬 스터디는 참 유익하다\".split(\" \")"
   ]
  },
  {
   "cell_type": "code",
   "execution_count": 17,
   "metadata": {
    "collapsed": false
   },
   "outputs": [
    {
     "data": {
      "text/plain": [
       "'이렇게 하면 될 거예요'"
      ]
     },
     "execution_count": 17,
     "metadata": {},
     "output_type": "execute_result"
    }
   ],
   "source": [
    "\" \".join([\"이렇게\",\"하면\",\"될\",\"거예요\"])"
   ]
  },
  {
   "cell_type": "code",
   "execution_count": 18,
   "metadata": {
    "collapsed": false
   },
   "outputs": [
    {
     "data": {
      "text/plain": [
       "'python스터디'"
      ]
     },
     "execution_count": 18,
     "metadata": {},
     "output_type": "execute_result"
    }
   ],
   "source": [
    "\"파이썬스터디\".replace(\"파이썬\",\"python\")"
   ]
  },
  {
   "cell_type": "code",
   "execution_count": 19,
   "metadata": {
    "collapsed": true
   },
   "outputs": [],
   "source": [
    "# word_replace 함수를 만들기\n",
    "def word_replace(word, before, after):\n",
    "    pass"
   ]
  },
  {
   "cell_type": "code",
   "execution_count": 23,
   "metadata": {
    "collapsed": false
   },
   "outputs": [],
   "source": [
    "user_list = [\n",
    "    [\"조용환\",\"주소1\"],\n",
    "    [\"하태준\",\"주소2\"],\n",
    "]"
   ]
  },
  {
   "cell_type": "code",
   "execution_count": 24,
   "metadata": {
    "collapsed": false
   },
   "outputs": [
    {
     "data": {
      "text/plain": [
       "[['조용환', '주소1'], ['하태준', '주소2']]"
      ]
     },
     "execution_count": 24,
     "metadata": {},
     "output_type": "execute_result"
    }
   ],
   "source": [
    "# 리스트의 리스트 => dictionary 의 리스트\n",
    "user_list"
   ]
  },
  {
   "cell_type": "code",
   "execution_count": null,
   "metadata": {
    "collapsed": true
   },
   "outputs": [],
   "source": [
    "#[{\"address\": \"주소1\",\"name\": \"조용환\"},{\"address\": \"주소2\",\"name\": \"하태준\"}]"
   ]
  },
  {
   "cell_type": "code",
   "execution_count": 26,
   "metadata": {
    "collapsed": false
   },
   "outputs": [
    {
     "data": {
      "text/plain": [
       "[{'address': '주소1', 'name': '조용환'}, {'address': '주소2', 'name': '하태준'}]"
      ]
     },
     "execution_count": 26,
     "metadata": {},
     "output_type": "execute_result"
    }
   ],
   "source": [
    "# for문을 돌리는 방법\n",
    "user_dict_list = []\n",
    "\n",
    "for user in user_list:\n",
    "    name = user[0]\n",
    "    address = user[1]\n",
    "    user_dict = {\n",
    "        \"name\": name,\n",
    "        \"address\": address,\n",
    "    }\n",
    "    user_dict_list.append(user_dict)\n",
    "\n",
    "user_dict_list\n",
    "    "
   ]
  },
  {
   "cell_type": "code",
   "execution_count": 28,
   "metadata": {
    "collapsed": false
   },
   "outputs": [
    {
     "data": {
      "text/plain": [
       "[{'address': '주소1', 'name': '조용환'}, {'address': '주소2', 'name': '하태준'}]"
      ]
     },
     "execution_count": 28,
     "metadata": {},
     "output_type": "execute_result"
    }
   ],
   "source": [
    "# List comprehensio\n",
    "[\n",
    "    {\n",
    "        \"name\": user[0],\n",
    "        \"address\": user[1]\n",
    "    }\n",
    "    for user\n",
    "    in user_list\n",
    "]"
   ]
  },
  {
   "cell_type": "code",
   "execution_count": 29,
   "metadata": {
    "collapsed": false
   },
   "outputs": [
    {
     "data": {
      "text/plain": [
       "[{'address': '주소1', 'name': '조용환'}, {'address': '주소2', 'name': '하태준'}]"
      ]
     },
     "execution_count": 29,
     "metadata": {},
     "output_type": "execute_result"
    }
   ],
   "source": [
    "[{\"name\": user[0],\"address\": user[1]} for user in user_list]"
   ]
  },
  {
   "cell_type": "code",
   "execution_count": 34,
   "metadata": {
    "collapsed": false
   },
   "outputs": [
    {
     "data": {
      "text/plain": [
       "[{'address': '부산광역시 다인군 민영열구 7 954 339-902', 'name': '전은황'},\n",
       " {'address': '세종특별자치시 흥용세시 임한정거리 5943 7-9 (395-057)', 'name': '삼향'},\n",
       " {'address': '서울특별시 광관시 재권효마을 1 84-9 196-370', 'name': '선우소'},\n",
       " {'address': '충청남도 팽인권구 제찬건거리 926 560-9 (749-717)', 'name': '임종'},\n",
       " {'address': '충청북도 채송승군 엽솔통거리 910 6-8 (044-628)', 'name': '조양'},\n",
       " {'address': '전라남도 순규미마을 원보철동 349 710-692', 'name': '부훈'},\n",
       " {'address': '충청남도 홍홍하군 솔권범거리 0450 740_ 636_ (920-397)', 'name': '명환열'},\n",
       " {'address': '인천광역시 증윤빈군 덕상동 3 447 (905-233)', 'name': '두욱'},\n",
       " {'address': '세종특별자치시 삼홍명군 힘상홍거리 6276 032-435', 'name': '두권힘'},\n",
       " {'address': '서울특별시 금람대구 병혜연구 582 221-080', 'name': '원근'},\n",
       " {'address': '강원도 기윤군 란아로 795 (162-945)', 'name': '나균안'},\n",
       " {'address': '대구광역시 협익마을 위용경군 0 (906-164)', 'name': '김덕'},\n",
       " {'address': '서울특별시 운주구 권우통동 8 700-156', 'name': '자송'},\n",
       " {'address': '전라북도 범가송군 권윤준동 5750 823_ 439_ (329-490)', 'name': '견열'},\n",
       " {'address': '충청남도 창란군 추화솔거리 6 318 837-707', 'name': '사진연'},\n",
       " {'address': '서울특별시 리명마을 건힘명구 0437 (878-884)', 'name': '호관'},\n",
       " {'address': '인천광역시 후금군 주완남로 5588 251-001', 'name': '천웅순'},\n",
       " {'address': '대전광역시 완산군 억해산동 8 2-1 985-808', 'name': '길환별'},\n",
       " {'address': '제주특별자치도 황황구 다영강시 777 (606-809)', 'name': '조기'},\n",
       " {'address': '제주특별자치도 손인정군 욱형거리 7 831_ 005_ (776-882)', 'name': '홍온병'},\n",
       " {'address': '경상북도 안환구 상위향군 6157 (050-235)', 'name': '문욱'},\n",
       " {'address': '광주광역시 원희준시 림엽하마을 8754 735-2 (639-033)', 'name': '빙덕'}]"
      ]
     },
     "execution_count": 34,
     "metadata": {},
     "output_type": "execute_result"
    }
   ],
   "source": [
    "with open(\"./users.csv\",\"r\") as f:\n",
    "    user_list = []\n",
    "    \n",
    "    for line in f.readlines():\n",
    "        user_list.append({\n",
    "                \"name\": line.split(\",\")[0],\n",
    "                \"address\": line.split(\",\")[1].replace(\"\\n\",\"\")\n",
    "            })\n",
    "user_list"
   ]
  },
  {
   "cell_type": "code",
   "execution_count": null,
   "metadata": {
    "collapsed": true
   },
   "outputs": [],
   "source": [
    "# 두번째 과제 위에걸 list comprehension"
   ]
  },
  {
   "cell_type": "code",
   "execution_count": 38,
   "metadata": {
    "collapsed": false
   },
   "outputs": [],
   "source": [
    "# 공일공 => 010\n",
    "\n",
    "def preprocess(phonenumber):\n",
    "    phonenumber_process_dict = {\n",
    "        \"공\" : 0,\n",
    "        \"영\" : 0,\n",
    "        \"일\" : 1,\n",
    "        \"이\" : 2,\n",
    "        \"삼\" : 3,\n",
    "        \"사\" : 4,\n",
    "        \"오\" : 5,\n",
    "        \"육\" : 6,\n",
    "        \"칠\" : 7,\n",
    "        \"팔\" : 8,\n",
    "        \"구\" : 9,\n",
    "        \"-\" : \"\",\n",
    "        \" \" : \"\"\n",
    "    }\n",
    "    \n",
    "    for key, value in phonenumber_process_dict.items():\n",
    "        phonenumber = phonenumber.replace(key,str(value))\n",
    "    return phonenumber\n",
    "\n"
   ]
  },
  {
   "cell_type": "code",
   "execution_count": 39,
   "metadata": {
    "collapsed": false
   },
   "outputs": [
    {
     "data": {
      "text/plain": [
       "'01098721722'"
      ]
     },
     "execution_count": 39,
     "metadata": {},
     "output_type": "execute_result"
    }
   ],
   "source": [
    "preprocess(\"공일공9872-1칠2이\")"
   ]
  },
  {
   "cell_type": "code",
   "execution_count": 42,
   "metadata": {
    "collapsed": false
   },
   "outputs": [
    {
     "data": {
      "text/plain": [
       "['010-9872-1722',\n",
       " '01098721722',\n",
       " '010-98721722',\n",
       " '공일공-9872-1722',\n",
       " '공일공9872일칠이이',\n",
       " '공일공9872-1722']"
      ]
     },
     "execution_count": 42,
     "metadata": {},
     "output_type": "execute_result"
    }
   ],
   "source": [
    "with open(\"./phonenumber.txt\",\"r\") as input_file:\n",
    "    result = [\n",
    "        line.replace(\"\\n\",\"\")\n",
    "        for line\n",
    "        in input_file.readlines()\n",
    "    ]\n",
    "result"
   ]
  },
  {
   "cell_type": "code",
   "execution_count": 43,
   "metadata": {
    "collapsed": false
   },
   "outputs": [
    {
     "data": {
      "text/plain": [
       "['01098721722',\n",
       " '01098721722',\n",
       " '01098721722',\n",
       " '01098721722',\n",
       " '01098721722',\n",
       " '01098721722']"
      ]
     },
     "execution_count": 43,
     "metadata": {},
     "output_type": "execute_result"
    }
   ],
   "source": [
    "with open(\"./phonenumber.txt\",\"r\") as input_file:\n",
    "    result = [\n",
    "        preprocess(line.replace(\"\\n\",\"\"))\n",
    "        for line\n",
    "        in input_file.readlines()\n",
    "    ]\n",
    "result"
   ]
  },
  {
   "cell_type": "code",
   "execution_count": 45,
   "metadata": {
    "collapsed": true
   },
   "outputs": [],
   "source": [
    "with open(\"./phonenumber.txt\",\"r\") as input_file:\n",
    "    with open(\"./phonenumber_preprocessed.txt\",\"w\") as output_file:\n",
    "        \n",
    "        phonenumber_list = [\n",
    "            preprocess(line.replace(\"\\n\",\"\"))\n",
    "            for line\n",
    "            in input_file.readlines()\n",
    "        ]\n",
    "        \n",
    "        for phonenumber in phonenumber_list:\n",
    "            output_file.write(phonenumber + \"\\n\")\n"
   ]
  },
  {
   "cell_type": "code",
   "execution_count": 46,
   "metadata": {
    "collapsed": true
   },
   "outputs": [],
   "source": [
    "with open(\"./phonenumber.txt\",\"r\") as input_file:\n",
    "    with open(\"./phonenumber_preprocessed.txt\",\"w\") as output_file:\n",
    "        \n",
    "        phonenumber_list = [\n",
    "            output_file.write(\n",
    "                preprocess(line.replace(\"\\n\",\"\")) + \"\\n\"\n",
    "            )    \n",
    "            for line\n",
    "            in input_file.readlines()\n",
    "        ]"
   ]
  },
  {
   "cell_type": "code",
   "execution_count": null,
   "metadata": {
    "collapsed": true
   },
   "outputs": [],
   "source": []
  }
 ],
 "metadata": {
  "kernelspec": {
   "display_name": "Python 3",
   "language": "python",
   "name": "python3"
  },
  "language_info": {
   "codemirror_mode": {
    "name": "ipython",
    "version": 3
   },
   "file_extension": ".py",
   "mimetype": "text/x-python",
   "name": "python",
   "nbconvert_exporter": "python",
   "pygments_lexer": "ipython3",
   "version": "3.5.1"
  }
 },
 "nbformat": 4,
 "nbformat_minor": 0
}
